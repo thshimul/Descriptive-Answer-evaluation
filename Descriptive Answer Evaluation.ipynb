{
 "cells": [
  {
   "cell_type": "code",
   "execution_count": 52,
   "metadata": {},
   "outputs": [],
   "source": [
    "import os"
   ]
  },
  {
   "cell_type": "code",
   "execution_count": 53,
   "metadata": {},
   "outputs": [],
   "source": [
    "base_dir = 'C:/Users/S. M. Towhid Hasan/Downloads/finalDataset1'\n",
    "train_dir = os.path.join(base_dir, 'train')\n",
    "test_dir = os.path.join(base_dir, 'test')"
   ]
  },
  {
   "cell_type": "code",
   "execution_count": 54,
   "metadata": {},
   "outputs": [],
   "source": [
    "label = []\n",
    "texts = []\n",
    "\n",
    "for label_type in ['0', '1','2','3','4','5','6', '7','8','9','10']:\n",
    "    train_dir_name = os.path.join(train_dir, label_type)\n",
    "    for fname in os.listdir(train_dir_name):\n",
    "        if fname[-4:] == '.txt':\n",
    "            f = open(os.path.join(train_dir_name, fname))\n",
    "            texts.append(f.read())\n",
    "            f.close()\n",
    "            if label_type == '0':\n",
    "                label.append(0)\n",
    "            if label_type == '1':\n",
    "                label.append(1)\n",
    "            if label_type == '2':\n",
    "                label.append(2)\n",
    "            if label_type == '3':\n",
    "                label.append(3)\n",
    "            if label_type == '4':\n",
    "                label.append(4)\n",
    "            if label_type == '5':\n",
    "                label.append(5)\n",
    "            if label_type == '6':\n",
    "                label.append(6)\n",
    "            if label_type == '7':\n",
    "                label.append(7)\n",
    "            if label_type == '8':\n",
    "                label.append(8)\n",
    "            if label_type == '9':\n",
    "                label.append(9)\n",
    "            if label_type == '10':\n",
    "                label.append(10)"
   ]
  },
  {
   "cell_type": "code",
   "execution_count": 55,
   "metadata": {},
   "outputs": [
    {
     "data": {
      "text/plain": [
       "215"
      ]
     },
     "execution_count": 55,
     "metadata": {},
     "output_type": "execute_result"
    }
   ],
   "source": [
    "len(label)"
   ]
  },
  {
   "cell_type": "code",
   "execution_count": 56,
   "metadata": {},
   "outputs": [
    {
     "name": "stdout",
     "output_type": "stream",
     "text": [
      "Found 777 unique tokens.\n"
     ]
    }
   ],
   "source": [
    "from keras.preprocessing.text import Tokenizer\n",
    "from keras.preprocessing.sequence import pad_sequences\n",
    "import numpy as np\n",
    "\n",
    "maxlen = 300  # We will cut reviews after 300 words\n",
    "training_samples = 180  # We will be training on 50 samples\n",
    "validation_samples = 35  # We will be validating on 12 samples\n",
    "max_words = 900  # We will only consider the top 800 words in the dataset\n",
    "\n",
    "tokenizer = Tokenizer(num_words=max_words)\n",
    "tokenizer.fit_on_texts(texts)\n",
    "sequences = tokenizer.texts_to_sequences(texts)\n",
    "\n",
    "word_index = tokenizer.word_index\n",
    "print('Found %s unique tokens.' % len(word_index))\n"
   ]
  },
  {
   "cell_type": "code",
   "execution_count": 57,
   "metadata": {},
   "outputs": [],
   "source": [
    "data = pad_sequences(sequences, maxlen=maxlen)"
   ]
  },
  {
   "cell_type": "code",
   "execution_count": 58,
   "metadata": {},
   "outputs": [
    {
     "data": {
      "text/plain": [
       "array([[  0,   0,   0, ...,   0,   0,   9],\n",
       "       [  0,   0,   0, ...,   0,   0, 659],\n",
       "       [  0,   0,   0, ...,   0,   0, 660],\n",
       "       ...,\n",
       "       [  0,   0,   0, ...,  82,  18, 192],\n",
       "       [  0,   0,   0, ...,  82,  18, 192],\n",
       "       [  0,   0,   0, ...,  82,  18, 192]])"
      ]
     },
     "execution_count": 58,
     "metadata": {},
     "output_type": "execute_result"
    }
   ],
   "source": [
    "data"
   ]
  },
  {
   "cell_type": "code",
   "execution_count": 59,
   "metadata": {},
   "outputs": [],
   "source": [
    "label = np.asarray(label)"
   ]
  },
  {
   "cell_type": "code",
   "execution_count": 60,
   "metadata": {},
   "outputs": [],
   "source": [
    "from keras.utils import to_categorical\n",
    "labels = to_categorical(label)"
   ]
  },
  {
   "cell_type": "code",
   "execution_count": 61,
   "metadata": {},
   "outputs": [
    {
     "data": {
      "text/plain": [
       "array([1., 0., 0., 0., 0., 0., 0., 0., 0., 0., 0.], dtype=float32)"
      ]
     },
     "execution_count": 61,
     "metadata": {},
     "output_type": "execute_result"
    }
   ],
   "source": [
    "labels[0]"
   ]
  },
  {
   "cell_type": "code",
   "execution_count": 62,
   "metadata": {},
   "outputs": [],
   "source": [
    "indices = np.arange(data.shape[0])"
   ]
  },
  {
   "cell_type": "code",
   "execution_count": 63,
   "metadata": {},
   "outputs": [
    {
     "data": {
      "text/plain": [
       "215"
      ]
     },
     "execution_count": 63,
     "metadata": {},
     "output_type": "execute_result"
    }
   ],
   "source": [
    "len(indices)"
   ]
  },
  {
   "cell_type": "code",
   "execution_count": 64,
   "metadata": {},
   "outputs": [],
   "source": [
    "np.random.shuffle(indices)\n",
    "data = data[indices]\n",
    "labels = labels[indices]\n",
    "\n",
    "x_train = data[:training_samples]\n",
    "y_train = labels[:training_samples]\n",
    "x_val = data[training_samples: training_samples + validation_samples]\n",
    "y_val = labels[training_samples: training_samples + validation_samples]"
   ]
  },
  {
   "cell_type": "code",
   "execution_count": 65,
   "metadata": {},
   "outputs": [
    {
     "name": "stdout",
     "output_type": "stream",
     "text": [
      "Shape of data tensor: (215, 300)\n",
      "Shape of label tensor: (215, 11)\n"
     ]
    }
   ],
   "source": [
    "print('Shape of data tensor:', data.shape)\n",
    "print('Shape of label tensor:', labels.shape)"
   ]
  },
  {
   "cell_type": "code",
   "execution_count": 66,
   "metadata": {},
   "outputs": [
    {
     "data": {
      "text/plain": [
       "array([[0., 0., 0., ..., 0., 1., 0.],\n",
       "       [0., 0., 0., ..., 0., 1., 0.],\n",
       "       [0., 0., 0., ..., 0., 0., 1.],\n",
       "       ...,\n",
       "       [0., 0., 0., ..., 0., 0., 0.],\n",
       "       [0., 0., 0., ..., 0., 0., 0.],\n",
       "       [0., 0., 1., ..., 0., 0., 0.]], dtype=float32)"
      ]
     },
     "execution_count": 66,
     "metadata": {},
     "output_type": "execute_result"
    }
   ],
   "source": [
    "labels"
   ]
  },
  {
   "cell_type": "code",
   "execution_count": 67,
   "metadata": {},
   "outputs": [
    {
     "name": "stdout",
     "output_type": "stream",
     "text": [
      "Found 400000 word vectors.\n"
     ]
    }
   ],
   "source": [
    "glove_dir = 'C:/Users/S. M. Towhid Hasan/Downloads/glove.6B'\n",
    "embeddings_index = {}\n",
    "f = open(os.path.join(glove_dir, 'glove.6B.100d.txt'),encoding=\"utf-8\")\n",
    "for line in f:\n",
    "    values = line.split()\n",
    "    word = values[0]\n",
    "    coefs = np.asarray(values[1:], dtype='float32')\n",
    "    embeddings_index[word] = coefs\n",
    "f.close()\n",
    "\n",
    "print('Found %s word vectors.' % len(embeddings_index))"
   ]
  },
  {
   "cell_type": "code",
   "execution_count": 68,
   "metadata": {},
   "outputs": [],
   "source": [
    "embedding_dim = 100\n",
    "\n",
    "embedding_matrix = np.zeros((max_words, embedding_dim))\n",
    "for word, i in word_index.items():\n",
    "    embedding_vector = embeddings_index.get(word)\n",
    "    if i < max_words:\n",
    "        if embedding_vector is not None:\n",
    "            # Words not found in embedding index will be all-zeros.\n",
    "            embedding_matrix[i] = embedding_vector"
   ]
  },
  {
   "cell_type": "code",
   "execution_count": 69,
   "metadata": {},
   "outputs": [
    {
     "name": "stdout",
     "output_type": "stream",
     "text": [
      "Model: \"sequential_4\"\n",
      "_________________________________________________________________\n",
      "Layer (type)                 Output Shape              Param #   \n",
      "=================================================================\n",
      "embedding_4 (Embedding)      (None, 300, 100)          90000     \n",
      "_________________________________________________________________\n",
      "flatten_2 (Flatten)          (None, 30000)             0         \n",
      "_________________________________________________________________\n",
      "dense_6 (Dense)              (None, 64)                1920064   \n",
      "_________________________________________________________________\n",
      "dense_7 (Dense)              (None, 32)                2080      \n",
      "_________________________________________________________________\n",
      "dense_8 (Dense)              (None, 11)                363       \n",
      "=================================================================\n",
      "Total params: 2,012,507\n",
      "Trainable params: 2,012,507\n",
      "Non-trainable params: 0\n",
      "_________________________________________________________________\n"
     ]
    }
   ],
   "source": [
    "from keras.models import Sequential\n",
    "from keras.layers import Embedding, Flatten, Dense\n",
    "\n",
    "model = Sequential()\n",
    "model.add(Embedding(max_words, embedding_dim, input_length=maxlen))\n",
    "model.add(Flatten())\n",
    "model.add(Dense(64, activation='relu'))\n",
    "model.add(Dense(32, activation='relu'))\n",
    "model.add(Dense(11, activation='softmax'))\n",
    "model.summary()"
   ]
  },
  {
   "cell_type": "code",
   "execution_count": 70,
   "metadata": {},
   "outputs": [],
   "source": [
    "model.layers[0].set_weights([embedding_matrix])\n",
    "model.layers[0].trainable = False"
   ]
  },
  {
   "cell_type": "code",
   "execution_count": null,
   "metadata": {},
   "outputs": [
    {
     "name": "stdout",
     "output_type": "stream",
     "text": [
      "Train on 180 samples, validate on 35 samples\n",
      "Epoch 1/20\n",
      "180/180 [==============================] - 3s 14ms/step - loss: 2.3088 - acc: 0.5611 - val_loss: 1.2552 - val_acc: 0.7429\n",
      "Epoch 2/20\n",
      "180/180 [==============================] - 2s 11ms/step - loss: 0.9667 - acc: 0.8111 - val_loss: 0.8146 - val_acc: 0.8571\n",
      "Epoch 3/20\n",
      "180/180 [==============================] - 2s 11ms/step - loss: 0.5836 - acc: 0.8667 - val_loss: 1.1106 - val_acc: 0.7429\n",
      "Epoch 4/20\n",
      "180/180 [==============================] - 2s 11ms/step - loss: 0.4674 - acc: 0.9111 - val_loss: 1.6112 - val_acc: 0.7429\n",
      "Epoch 5/20\n",
      "180/180 [==============================] - 2s 11ms/step - loss: 0.8364 - acc: 0.8778 - val_loss: 1.3251 - val_acc: 0.8857\n",
      "Epoch 6/20\n",
      "180/180 [==============================] - 2s 11ms/step - loss: 0.5664 - acc: 0.9278 - val_loss: 0.8252 - val_acc: 0.8571\n",
      "Epoch 7/20\n",
      "180/180 [==============================] - 2s 11ms/step - loss: 0.4059 - acc: 0.9333 - val_loss: 0.8990 - val_acc: 0.8571\n",
      "Epoch 8/20\n",
      "180/180 [==============================] - 2s 11ms/step - loss: 0.3704 - acc: 0.9444 - val_loss: 1.4564 - val_acc: 0.8286\n",
      "Epoch 9/20\n",
      "180/180 [==============================] - 2s 11ms/step - loss: 0.2445 - acc: 0.9722 - val_loss: 1.0598 - val_acc: 0.8571\n",
      "Epoch 10/20\n",
      "180/180 [==============================] - 2s 11ms/step - loss: 0.3930 - acc: 0.9278 - val_loss: 1.0168 - val_acc: 0.8571\n",
      "Epoch 11/20\n",
      "180/180 [==============================] - 2s 11ms/step - loss: 0.2037 - acc: 0.9500 - val_loss: 1.0716 - val_acc: 0.8571\n",
      "Epoch 12/20\n",
      "180/180 [==============================] - 2s 11ms/step - loss: 0.1422 - acc: 0.9778 - val_loss: 1.0219 - val_acc: 0.8000\n",
      "Epoch 13/20\n",
      "180/180 [==============================] - 2s 11ms/step - loss: 0.2838 - acc: 0.9667 - val_loss: 2.1181 - val_acc: 0.8000\n",
      "Epoch 14/20\n",
      "178/180 [============================>.] - ETA: 0s - loss: 0.2776 - acc: 0.9775"
     ]
    }
   ],
   "source": [
    "model.compile(optimizer='rmsprop',\n",
    "              loss='categorical_crossentropy',\n",
    "              metrics=['acc'])\n",
    "history = model.fit(x_train, y_train,\n",
    "                    epochs=20,\n",
    "                    batch_size=2,\n",
    "                    validation_data=(x_val, y_val))"
   ]
  },
  {
   "cell_type": "code",
   "execution_count": 22,
   "metadata": {},
   "outputs": [
    {
     "data": {
      "image/png": "[encoded data removed]",
      "text/plain": [
       "<Figure size 432x288 with 1 Axes>"
      ]
     },
     "metadata": {
      "needs_background": "light"
     },
     "output_type": "display_data"
    },
    {
     "data": {
      "image/png": "[encoded data removed]",
      "text/plain": [
       "<Figure size 432x288 with 1 Axes>"
      ]
     },
     "metadata": {
      "needs_background": "light"
     },
     "output_type": "display_data"
    }
   ],
   "source": [
    "import matplotlib.pyplot as plt\n",
    "\n",
    "acc = history.history['acc']\n",
    "val_acc = history.history['val_acc']\n",
    "loss = history.history['loss']\n",
    "val_loss = history.history['val_loss']\n",
    "\n",
    "epochs = range(1, len(acc) + 1)\n",
    "\n",
    "plt.plot(epochs, acc, 'bo', label='Training acc')\n",
    "plt.plot(epochs, val_acc, 'b', label='Validation acc')\n",
    "plt.title('Training and validation accuracy on classifier on top')\n",
    "plt.legend()\n",
    "\n",
    "plt.figure()\n",
    "\n",
    "plt.plot(epochs, loss, 'bo', label='Training loss')\n",
    "plt.plot(epochs, val_loss, 'b', label='Validation loss')\n",
    "plt.title('Training and validation loss on classifier on top')\n",
    "plt.legend()\n",
    "\n",
    "plt.show()"
   ]
  },
  {
   "cell_type": "code",
   "execution_count": 23,
   "metadata": {},
   "outputs": [],
   "source": [
    "tlabel = []\n",
    "ttexts = []\n",
    "\n",
    "for label_type in ['0', '1','2','3','4','5','6', '7','8','9','10']:\n",
    "    test_dir_name = os.path.join(test_dir, label_type)\n",
    "    for fname in os.listdir(test_dir_name):\n",
    "        if fname[-4:] == '.txt':\n",
    "            f = open(os.path.join(test_dir_name, fname))\n",
    "            ttexts.append(f.read())\n",
    "            f.close()\n",
    "            if label_type == '0':\n",
    "                tlabel.append(0)\n",
    "            if label_type == '1':\n",
    "                tlabel.append(1)\n",
    "            if label_type == '2':\n",
    "                tlabel.append(2)\n",
    "            if label_type == '3':\n",
    "                tlabel.append(3)\n",
    "            if label_type == '4':\n",
    "                tlabel.append(4)\n",
    "            if label_type == '5':\n",
    "                tlabel.append(5)\n",
    "            if label_type == '6':\n",
    "                tlabel.append(6)\n",
    "            if label_type == '7':\n",
    "                tlabel.append(7)\n",
    "            if label_type == '8':\n",
    "                tlabel.append(8)\n",
    "            if label_type == '9':\n",
    "                tlabel.append(9)\n",
    "            if label_type == '10':\n",
    "                tlabel.append(10)"
   ]
  },
  {
   "cell_type": "code",
   "execution_count": 24,
   "metadata": {},
   "outputs": [],
   "source": [
    "sequences = tokenizer.texts_to_sequences(ttexts)\n",
    "x_test = pad_sequences(sequences, maxlen=maxlen)\n",
    "t_label = np.asarray(tlabel)\n",
    "y_test = to_categorical(t_label)"
   ]
  },
  {
   "cell_type": "code",
   "execution_count": 51,
   "metadata": {},
   "outputs": [
    {
     "name": "stdout",
     "output_type": "stream",
     "text": [
      "155/155 [==============================] - 0s 3ms/step\n",
      "Test Accuracy on classifier on top: 0.9096774458885193\n"
     ]
    }
   ],
   "source": [
    "score = model.evaluate(x_test, y_test, verbose=1)\n",
    "print(\"Test Accuracy on classifier on top:\", score[1])"
   ]
  },
  {
   "cell_type": "code",
   "execution_count": 26,
   "metadata": {},
   "outputs": [],
   "source": [
    "from keras.layers import SimpleRNN"
   ]
  },
  {
   "cell_type": "code",
   "execution_count": 27,
   "metadata": {},
   "outputs": [],
   "source": [
    "import tensorflow as tf\n",
    "from tensorflow.keras import layers,models\n",
    "from keras.layers import Embedding, SimpleRNN\n",
    "\n"
   ]
  },
  {
   "cell_type": "code",
   "execution_count": 28,
   "metadata": {},
   "outputs": [],
   "source": [
    "from keras.layers import Dense\n",
    "\n",
    "model = Sequential()\n",
    "model.add(Embedding(max_words, 100))\n",
    "model.add(SimpleRNN(32))\n",
    "model.add(Dense(11, activation='softmax'))"
   ]
  },
  {
   "cell_type": "code",
   "execution_count": 29,
   "metadata": {},
   "outputs": [],
   "source": [
    "model.layers[0].set_weights([embedding_matrix])\n",
    "model.layers[0].trainable = False"
   ]
  },
  {
   "cell_type": "code",
   "execution_count": 30,
   "metadata": {},
   "outputs": [
    {
     "name": "stdout",
     "output_type": "stream",
     "text": [
      "Train on 144 samples, validate on 36 samples\n",
      "Epoch 1/20\n",
      "144/144 [==============================] - 9s 60ms/step - loss: 2.0044 - acc: 0.3889 - val_loss: 1.4969 - val_acc: 0.5833\n",
      "Epoch 2/20\n",
      "144/144 [==============================] - 8s 58ms/step - loss: 1.3288 - acc: 0.5903 - val_loss: 1.2353 - val_acc: 0.5833\n",
      "Epoch 3/20\n",
      "144/144 [==============================] - 8s 57ms/step - loss: 1.1075 - acc: 0.6528 - val_loss: 1.0800 - val_acc: 0.6389\n",
      "Epoch 4/20\n",
      "144/144 [==============================] - 8s 56ms/step - loss: 0.9561 - acc: 0.7014 - val_loss: 1.0145 - val_acc: 0.5278\n",
      "Epoch 5/20\n",
      "144/144 [==============================] - 8s 56ms/step - loss: 0.8624 - acc: 0.7292 - val_loss: 0.9222 - val_acc: 0.6667\n",
      "Epoch 6/20\n",
      "144/144 [==============================] - 8s 57ms/step - loss: 0.7901 - acc: 0.7361 - val_loss: 0.8844 - val_acc: 0.6667\n",
      "Epoch 7/20\n",
      "144/144 [==============================] - 8s 55ms/step - loss: 0.7299 - acc: 0.7431 - val_loss: 0.8105 - val_acc: 0.7500\n",
      "Epoch 8/20\n",
      "144/144 [==============================] - 8s 56ms/step - loss: 0.6667 - acc: 0.7986 - val_loss: 0.7721 - val_acc: 0.7778\n",
      "Epoch 9/20\n",
      "144/144 [==============================] - 8s 58ms/step - loss: 0.6151 - acc: 0.7986 - val_loss: 0.7615 - val_acc: 0.7778\n",
      "Epoch 10/20\n",
      "144/144 [==============================] - 8s 54ms/step - loss: 0.5896 - acc: 0.8056 - val_loss: 0.7008 - val_acc: 0.7778\n",
      "Epoch 11/20\n",
      "144/144 [==============================] - 8s 55ms/step - loss: 0.5660 - acc: 0.8194 - val_loss: 0.6727 - val_acc: 0.7500\n",
      "Epoch 12/20\n",
      "144/144 [==============================] - 8s 56ms/step - loss: 0.5303 - acc: 0.8125 - val_loss: 0.6574 - val_acc: 0.7500\n",
      "Epoch 13/20\n",
      "144/144 [==============================] - 8s 55ms/step - loss: 0.5157 - acc: 0.8333 - val_loss: 0.6492 - val_acc: 0.8333\n",
      "Epoch 14/20\n",
      "144/144 [==============================] - 8s 59ms/step - loss: 0.5030 - acc: 0.8125 - val_loss: 0.6550 - val_acc: 0.8333\n",
      "Epoch 15/20\n",
      "144/144 [==============================] - 8s 57ms/step - loss: 0.4860 - acc: 0.8403 - val_loss: 0.6098 - val_acc: 0.8056\n",
      "Epoch 16/20\n",
      "144/144 [==============================] - 8s 55ms/step - loss: 0.4795 - acc: 0.8403 - val_loss: 0.6032 - val_acc: 0.7778\n",
      "Epoch 17/20\n",
      "144/144 [==============================] - 8s 57ms/step - loss: 0.4637 - acc: 0.8194 - val_loss: 0.6098 - val_acc: 0.8056\n",
      "Epoch 18/20\n",
      "144/144 [==============================] - 8s 55ms/step - loss: 0.4585 - acc: 0.8403 - val_loss: 0.6124 - val_acc: 0.8056\n",
      "Epoch 19/20\n",
      "144/144 [==============================] - 8s 54ms/step - loss: 0.4539 - acc: 0.8403 - val_loss: 0.5928 - val_acc: 0.7778\n",
      "Epoch 20/20\n",
      "144/144 [==============================] - 8s 54ms/step - loss: 0.4429 - acc: 0.8403 - val_loss: 0.5930 - val_acc: 0.7778\n"
     ]
    }
   ],
   "source": [
    "\n",
    "\n",
    "model.compile(optimizer='rmsprop', loss='categorical_crossentropy', metrics=['acc'])\n",
    "history = model.fit(x_train, y_train,\n",
    "                    epochs=20,\n",
    "                    batch_size=2,\n",
    "                    validation_split=0.2)"
   ]
  },
  {
   "cell_type": "code",
   "execution_count": 31,
   "metadata": {},
   "outputs": [
    {
     "data": {
      "image/png": "[encoded data removed]",
      "text/plain": [
       "<Figure size 432x288 with 1 Axes>"
      ]
     },
     "metadata": {
      "needs_background": "light"
     },
     "output_type": "display_data"
    },
    {
     "data": {
      "image/png": "[encoded data removed]",
      "text/plain": [
       "<Figure size 432x288 with 1 Axes>"
      ]
     },
     "metadata": {
      "needs_background": "light"
     },
     "output_type": "display_data"
    }
   ],
   "source": [
    "acc = history.history['acc']\n",
    "val_acc = history.history['val_acc']\n",
    "loss = history.history['loss']\n",
    "val_loss = history.history['val_loss']\n",
    "\n",
    "epochs = range(1, len(acc) + 1)\n",
    "\n",
    "plt.plot(epochs, acc, 'bo', label='Training acc')\n",
    "plt.plot(epochs, val_acc, 'b', label='Validation acc')\n",
    "plt.title('Training and validation accuracy on SIMPLERNN model')\n",
    "plt.legend()\n",
    "\n",
    "plt.figure()\n",
    "\n",
    "plt.plot(epochs, loss, 'bo', label='Training loss')\n",
    "plt.plot(epochs, val_loss, 'b', label='Validation loss on SIMPLERNN model')\n",
    "plt.title('Training and validation loss')\n",
    "plt.legend()\n",
    "\n",
    "plt.show()"
   ]
  },
  {
   "cell_type": "code",
   "execution_count": 32,
   "metadata": {},
   "outputs": [
    {
     "name": "stdout",
     "output_type": "stream",
     "text": [
      "155/155 [==============================] - 0s 1ms/step\n",
      "Test Accuracy on on SIMPLERNN model: 0.8645161390304565\n"
     ]
    }
   ],
   "source": [
    "score = model.evaluate(x_test, y_test, verbose=1)\n",
    "print(\"Test Accuracy on on SIMPLERNN model:\", score[1])"
   ]
  },
  {
   "cell_type": "code",
   "execution_count": 33,
   "metadata": {},
   "outputs": [],
   "source": [
    "from keras.layers import LSTM\n",
    "\n",
    "model = Sequential()\n",
    "model.add(Embedding(max_words, 100))\n",
    "model.add(LSTM(64))\n",
    "model.add(Dense(11, activation='softmax'))\n",
    "\n"
   ]
  },
  {
   "cell_type": "code",
   "execution_count": 34,
   "metadata": {},
   "outputs": [],
   "source": [
    "model.layers[0].set_weights([embedding_matrix])\n",
    "model.layers[0].trainable = False"
   ]
  },
  {
   "cell_type": "code",
   "execution_count": 47,
   "metadata": {},
   "outputs": [
    {
     "name": "stdout",
     "output_type": "stream",
     "text": [
      "Train on 144 samples, validate on 36 samples\n",
      "Epoch 1/20\n",
      "144/144 [==============================] - 12s 82ms/step - loss: 0.3490 - acc: 0.8750 - val_loss: 0.4591 - val_acc: 0.7778\n",
      "Epoch 2/20\n",
      "144/144 [==============================] - 9s 66ms/step - loss: 0.2812 - acc: 0.9097 - val_loss: 0.4491 - val_acc: 0.7778\n",
      "Epoch 3/20\n",
      "144/144 [==============================] - 9s 66ms/step - loss: 0.2613 - acc: 0.9097 - val_loss: 0.4066 - val_acc: 0.8056\n",
      "Epoch 4/20\n",
      "144/144 [==============================] - 10s 66ms/step - loss: 0.3496 - acc: 0.8889 - val_loss: 0.5190 - val_acc: 0.7778\n",
      "Epoch 5/20\n",
      "144/144 [==============================] - 9s 66ms/step - loss: 0.3812 - acc: 0.8681 - val_loss: 0.4681 - val_acc: 0.8056\n",
      "Epoch 6/20\n",
      "144/144 [==============================] - 10s 67ms/step - loss: 0.3004 - acc: 0.9097 - val_loss: 0.4331 - val_acc: 0.8333\n",
      "Epoch 7/20\n",
      "144/144 [==============================] - 9s 66ms/step - loss: 0.2581 - acc: 0.9167 - val_loss: 0.4044 - val_acc: 0.8333\n",
      "Epoch 8/20\n",
      "144/144 [==============================] - 10s 67ms/step - loss: 0.2291 - acc: 0.9236 - val_loss: 0.4101 - val_acc: 0.8333\n",
      "Epoch 9/20\n",
      "144/144 [==============================] - 10s 70ms/step - loss: 0.2276 - acc: 0.9167 - val_loss: 0.4001 - val_acc: 0.8611\n",
      "Epoch 10/20\n",
      "144/144 [==============================] - 11s 74ms/step - loss: 0.2060 - acc: 0.9236 - val_loss: 0.4634 - val_acc: 0.8056\n",
      "Epoch 11/20\n",
      "144/144 [==============================] - 11s 74ms/step - loss: 0.2676 - acc: 0.8819 - val_loss: 0.4474 - val_acc: 0.7778\n",
      "Epoch 12/20\n",
      "144/144 [==============================] - 11s 75ms/step - loss: 0.3621 - acc: 0.9028 - val_loss: 0.5063 - val_acc: 0.8056\n",
      "Epoch 13/20\n",
      "144/144 [==============================] - 11s 76ms/step - loss: 0.3380 - acc: 0.8889 - val_loss: 0.4413 - val_acc: 0.8611\n",
      "Epoch 14/20\n",
      "144/144 [==============================] - 11s 77ms/step - loss: 0.3235 - acc: 0.8958 - val_loss: 0.4560 - val_acc: 0.7778\n",
      "Epoch 15/20\n",
      "144/144 [==============================] - 11s 78ms/step - loss: 0.2590 - acc: 0.9097 - val_loss: 0.4062 - val_acc: 0.8056\n",
      "Epoch 16/20\n",
      "144/144 [==============================] - 12s 81ms/step - loss: 0.2538 - acc: 0.9097 - val_loss: 0.4175 - val_acc: 0.8333\n",
      "Epoch 17/20\n",
      "144/144 [==============================] - 12s 82ms/step - loss: 0.2406 - acc: 0.9167 - val_loss: 0.4664 - val_acc: 0.8333\n",
      "Epoch 18/20\n",
      "144/144 [==============================] - 11s 78ms/step - loss: 0.2948 - acc: 0.8681 - val_loss: 0.4076 - val_acc: 0.7778\n",
      "Epoch 19/20\n",
      "144/144 [==============================] - 12s 80ms/step - loss: 0.2477 - acc: 0.9236 - val_loss: 0.3750 - val_acc: 0.8333\n",
      "Epoch 20/20\n",
      "144/144 [==============================] - 12s 83ms/step - loss: 0.2589 - acc: 0.8958 - val_loss: 0.4270 - val_acc: 0.8056\n"
     ]
    }
   ],
   "source": [
    "model.compile(optimizer='adam',\n",
    "              loss='categorical_crossentropy',\n",
    "              metrics=['acc'])\n",
    "history = model.fit(x_train, y_train,\n",
    "                    epochs=20,\n",
    "                    batch_size=10,\n",
    "                    validation_split=0.2)"
   ]
  },
  {
   "cell_type": "code",
   "execution_count": 48,
   "metadata": {},
   "outputs": [
    {
     "data": {
      "image/png": "[encoded data removed]",
      "text/plain": [
       "<Figure size 432x288 with 1 Axes>"
      ]
     },
     "metadata": {
      "needs_background": "light"
     },
     "output_type": "display_data"
    },
    {
     "data": {
      "image/png": "[encoded data removed]",
      "text/plain": [
       "<Figure size 432x288 with 1 Axes>"
      ]
     },
     "metadata": {
      "needs_background": "light"
     },
     "output_type": "display_data"
    }
   ],
   "source": [
    "import matplotlib.pyplot as plt\n",
    "\n",
    "acc = history.history['acc']\n",
    "val_acc = history.history['val_acc']\n",
    "loss = history.history['loss']\n",
    "val_loss = history.history['val_loss']\n",
    "\n",
    "epochs = range(len(acc))\n",
    "\n",
    "plt.plot(epochs, acc, 'bo', label='Training acc')\n",
    "plt.plot(epochs, val_acc, 'b', label='Validation acc')\n",
    "plt.title('Training and validation accuracy on LSTM model')\n",
    "plt.legend()\n",
    "\n",
    "plt.figure()\n",
    "\n",
    "plt.plot(epochs, loss, 'bo', label='Training loss')\n",
    "plt.plot(epochs, val_loss, 'b', label='Validation loss')\n",
    "plt.title('Training and validation loss on LSTM model')\n",
    "plt.legend()\n",
    "\n",
    "plt.show()"
   ]
  },
  {
   "cell_type": "code",
   "execution_count": 50,
   "metadata": {},
   "outputs": [
    {
     "name": "stdout",
     "output_type": "stream",
     "text": [
      "155/155 [==============================] - 0s 3ms/step\n",
      "Test Accuracy on LSTM: 0.9096774458885193\n"
     ]
    }
   ],
   "source": [
    "score = model.evaluate(x_test, y_test, verbose=1)\n",
    "\n",
    "\n",
    "print(\"Test Accuracy on LSTM:\", score[1])"
   ]
  },
  {
   "cell_type": "code",
   "execution_count": null,
   "metadata": {},
   "outputs": [],
   "source": []
  }
 ],
 "metadata": {
  "kernelspec": {
   "display_name": "Python 3",
   "language": "python",
   "name": "python3"
  },
  "language_info": {
   "codemirror_mode": {
    "name": "ipython",
    "version": 3
   },
   "file_extension": ".py",
   "mimetype": "text/x-python",
   "name": "python",
   "nbconvert_exporter": "python",
   "pygments_lexer": "ipython3",
   "version": "3.7.4"
  }
 },
 "nbformat": 4,
 "nbformat_minor": 2
}
